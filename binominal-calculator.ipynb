{
 "cells": [
  {
   "cell_type": "code",
   "execution_count": 24,
   "id": "1f84fc10",
   "metadata": {},
   "outputs": [
    {
     "data": {
      "application/vnd.jupyter.widget-view+json": {
       "model_id": "46487b4f571b4e67917a0f875f0212cc",
       "version_major": 2,
       "version_minor": 0
      },
      "text/plain": [
       "interactive(children=(IntSlider(value=1, description='Objets (d)', layout=Layout(width='100%'), max=64, min=1)…"
      ]
     },
     "metadata": {},
     "output_type": "display_data"
    },
    {
     "data": {
      "text/plain": [
       "<function __main__.plot_binomial(drop, p, machines)>"
      ]
     },
     "execution_count": 24,
     "metadata": {},
     "output_type": "execute_result"
    }
   ],
   "source": [
    "import matplotlib.pyplot as plt\n",
    "from scipy.stats import binom\n",
    "import ipywidgets as widgets\n",
    "from ipywidgets import interact\n",
    "\n",
    "%matplotlib inline\n",
    "\n",
    "MAX_DROPS = 64\n",
    "MAX_MACHINES = 100\n",
    "\n",
    "def plot_binomial(drop, p, machines):\n",
    "    drop_total = drop * machines\n",
    "    k_values = list(range(0, drop_total + 1))\n",
    "    probabilities = [binom.pmf(k, drop_total, p) for k in k_values]\n",
    "\n",
    "    mean = drop_total * p\n",
    "    std_dev = (drop_total * p * (1 - p)) ** 0.5\n",
    "    low_bound = max(0, int(mean - 2 * std_dev))\n",
    "    high_bound = min(drop_total, int(mean + 2 * std_dev))\n",
    "\n",
    "    # Remove most of 0% drop chance\n",
    "    filtered_k = [k for k, prob in zip(k_values, probabilities) if prob > 0.00009]\n",
    "    filtered_probs = [prob for prob in probabilities if prob > 0.00009]\n",
    "\n",
    "    # Nerd stat part\n",
    "    print(f\"Drops * Machine = {drop_total}\")\n",
    "    print(f\"Moyenne ≈ {mean:.2f}\")\n",
    "    print(f\"Écart-type ≈ {std_dev:.2f}\")\n",
    "    print(f\"Intervalle 95% ≈ [{low_bound} ; {high_bound}]\")\n",
    "\n",
    "    # Graph\n",
    "    plt.figure(figsize=(15, 5))\n",
    "    bars = plt.bar(filtered_k, filtered_probs, color=\"skyblue\", edgecolor=\"blue\")\n",
    "    for bar, prob in zip(bars, filtered_probs):\n",
    "        plt.text(bar.get_x() + bar.get_width() / 2, bar.get_height(),\n",
    "                 f\"{prob:.4f}\", ha='center', va='bottom', fontsize=8)\n",
    "\n",
    "    # Draw average line and area for 95% confidence interval\n",
    "    plt.axvspan(low_bound, high_bound, color='orange', alpha=0.05, label='Intervalle 95%')\n",
    "    plt.axvline(mean, color='red', linestyle='--', linewidth=2, label=f'Moyenne = {mean:.2f}')\n",
    "\n",
    "    # Legends\n",
    "    plt.title(f\"Distribution Binomiale (d={drop_total}, p={p:.4f})\")\n",
    "    plt.xlabel(\"Nombre d'objets obtenus\")\n",
    "    plt.xticks(filtered_k)\n",
    "    plt.ylabel(\"Probabilité\")\n",
    "    plt.legend()\n",
    "    plt.show()\n",
    "\n",
    "# Interactive slider for the binomial distribution plot\n",
    "interact(\n",
    "    plot_binomial,\n",
    "    drop=widgets.IntSlider(value=1, min=1, max=MAX_DROPS, step=1, description=\"Objets (d)\", layout=widgets.Layout(width='100%')),\n",
    "    p=widgets.FloatSlider(value=0.125, min=0.0, max=1.0, step=0.0001, description=\"Probabilité (p)\", readout_format='.4f', layout=widgets.Layout(width='100%')),\n",
    "    machines=widgets.IntSlider(value=25, min=1, max=MAX_MACHINES, step=1, description=\"Machines\", layout=widgets.Layout(width='100%'))\n",
    ")"
   ]
  }
 ],
 "metadata": {
  "kernelspec": {
   "display_name": "Python 3",
   "language": "python",
   "name": "python3"
  },
  "language_info": {
   "codemirror_mode": {
    "name": "ipython",
    "version": 3
   },
   "file_extension": ".py",
   "mimetype": "text/x-python",
   "name": "python",
   "nbconvert_exporter": "python",
   "pygments_lexer": "ipython3",
   "version": "3.13.5"
  }
 },
 "nbformat": 4,
 "nbformat_minor": 5
}
